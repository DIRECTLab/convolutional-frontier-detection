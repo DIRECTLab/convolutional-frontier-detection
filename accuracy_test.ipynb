{
 "cells": [
  {
   "attachments": {},
   "cell_type": "markdown",
   "metadata": {},
   "source": [
    "## Imports"
   ]
  },
  {
   "cell_type": "code",
   "execution_count": 1,
   "metadata": {},
   "outputs": [],
   "source": [
    "from frontier_accuracy import fill_grid, get_connection_points\n",
    "import matplotlib.pyplot as plt\n",
    "from frontier_algorithms.convolutional import ConvolutionalFrontierDetector\n",
    "from frontier_algorithms.simple_search import SimpleFrontierDetector\n",
    "import numpy as np\n",
    "from occupancy_grid import OccupancyGrid\n",
    "from ConcaveHull import ConcaveHull"
   ]
  },
  {
   "attachments": {},
   "cell_type": "markdown",
   "metadata": {},
   "source": [
    "## Gather Ground Truth\n",
    "\n",
    "For this section, the 'Simple Frontier Detector' is set to just return all frontiers, before performing clustering. This ensures every possible frontier is found, and then is used as the baseline."
   ]
  },
  {
   "cell_type": "code",
   "execution_count": null,
   "metadata": {},
   "outputs": [],
   "source": [
    "map_folder = \"maps/\"\n",
    "map_extension = \".tmj\"\n",
    "maps = [(\"extra-medium\", 350, 350), (\"large-field-large-explored\", 500, 500), (\"large-field-medium-explored\", 500, 500), (\"medium-field-medium-explored\", 250, 250), (\"medium-field-large-explored\", 250, 250), (\"star\", 500, 500)]"
   ]
  },
  {
   "cell_type": "code",
   "execution_count": null,
   "metadata": {},
   "outputs": [],
   "source": [
    "ground_truth_detector = SimpleFrontierDetector()\n",
    "alpha_values = [1000, 150, 120, 140, 100]\n",
    "\n",
    "current_map, x, y = maps[0]\n",
    "occupancy_grid = OccupancyGrid(f\"{map_folder}{current_map}{map_extension}\", True)\n",
    "frontiers = ground_truth_detector.identify_frontiers(occupancy_grid.as_flat(), occupancy_grid.width, occupancy_grid.height, np.array([[250, 250]]), False)"
   ]
  },
  {
   "cell_type": "code",
   "execution_count": null,
   "metadata": {},
   "outputs": [],
   "source": [
    "world_map = np.zeros((occupancy_grid.width, occupancy_grid.height))\n",
    "ground_truth_map = np.zeros((occupancy_grid.height, occupancy_grid.width))\n",
    "fill_grid(ground_truth_map, frontiers, x, y)\n",
    "plt.imshow(ground_truth_map, 'gray')"
   ]
  },
  {
   "cell_type": "code",
   "execution_count": null,
   "metadata": {},
   "outputs": [],
   "source": [
    "np.unique(ground_truth_map)"
   ]
  },
  {
   "attachments": {},
   "cell_type": "markdown",
   "metadata": {},
   "source": [
    "## Load ground truth"
   ]
  },
  {
   "cell_type": "code",
   "execution_count": null,
   "metadata": {},
   "outputs": [],
   "source": [
    "ground_truth = np.load('med-field-med-explored-ground-truth.npy')\n",
    "\n",
    "occupancy_grid = OccupancyGrid('maps/medium-field-medium-explored.tmj', True)\n",
    "\n",
    "frontier_detector = ConvolutionalFrontierDetector(64)"
   ]
  },
  {
   "cell_type": "code",
   "execution_count": null,
   "metadata": {},
   "outputs": [],
   "source": [
    "frontiers = frontier_detector(occupancy_grid.as_flat(), occupancy_grid.width, occupancy_grid.height, np.array([[250, 250]]))"
   ]
  },
  {
   "cell_type": "code",
   "execution_count": null,
   "metadata": {},
   "outputs": [],
   "source": [
    "x, y = get_connection_points(frontiers, 250)\n",
    "\n",
    "# true_x, true_y = [point[0] for point in frontiers], [point[1] for point in frontiers]\n",
    "# plt.plot(true_x, true_y, 'ro')\n",
    "\n",
    "plt.plot(x, y, 'b.-')\n",
    "plt.show()"
   ]
  },
  {
   "cell_type": "code",
   "execution_count": null,
   "metadata": {},
   "outputs": [],
   "source": [
    "world_map = np.zeros((occupancy_grid.width, occupancy_grid.height))\n",
    "\n",
    "ground_truth_map = np.zeros_like(world_map)\n",
    "\n",
    "fill_grid(ground_truth_map, ground_truth, 250, 250)\n",
    "\n",
    "fill_grid(world_map, frontiers, 250, 250, alpha=250)"
   ]
  },
  {
   "cell_type": "code",
   "execution_count": null,
   "metadata": {},
   "outputs": [],
   "source": [
    "plt.imshow(world_map, 'gray')"
   ]
  },
  {
   "cell_type": "code",
   "execution_count": null,
   "metadata": {},
   "outputs": [],
   "source": [
    "plt.imshow(ground_truth_map, 'gray')"
   ]
  },
  {
   "cell_type": "code",
   "execution_count": null,
   "metadata": {},
   "outputs": [],
   "source": [
    "difference = np.abs(ground_truth_map - world_map)\n",
    "print(np.sum(difference))\n",
    "plt.imshow(difference, 'gray')\n",
    "\n",
    "percent_off = np.sum(difference) / np.sum(ground_truth_map)\n",
    "\n",
    "print(percent_off)"
   ]
  }
 ],
 "metadata": {
  "kernelspec": {
   "display_name": "frontiers",
   "language": "python",
   "name": "python3"
  },
  "language_info": {
   "codemirror_mode": {
    "name": "ipython",
    "version": 3
   },
   "file_extension": ".py",
   "mimetype": "text/x-python",
   "name": "python",
   "nbconvert_exporter": "python",
   "pygments_lexer": "ipython3",
   "version": "3.10.8"
  },
  "orig_nbformat": 4,
  "vscode": {
   "interpreter": {
    "hash": "bbdcbba84e10412eb14685663d3f5aedbd595e497d1de9d27b0986bf1aa81481"
   }
  }
 },
 "nbformat": 4,
 "nbformat_minor": 2
}
