{
 "cells": [
  {
   "attachments": {},
   "cell_type": "markdown",
   "metadata": {},
   "source": [
    "## Imports"
   ]
  },
  {
   "cell_type": "code",
   "execution_count": 1,
   "metadata": {},
   "outputs": [],
   "source": [
    "import matplotlib.pyplot as plt\n",
    "from frontier_algorithms.convolutional import ConvolutionalFrontierDetector\n",
    "from frontier_algorithms.simple_search import SimpleFrontierDetector\n",
    "from frontier_algorithms.expanding_wavefront import ExpandingWavefront\n",
    "import numpy as np\n",
    "from occupancy_grid import OccupancyGrid\n",
    "from ConcaveHull import ConcaveHull\n",
    "from fastdtw import fastdtw\n",
    "from scipy.spatial.distance import euclidean"
   ]
  },
  {
   "attachments": {},
   "cell_type": "markdown",
   "metadata": {},
   "source": [
    "## Gather Ground Truth\n",
    "\n",
    "For this section, the 'Simple Frontier Detector' is set to just return all frontiers, before performing clustering. This ensures every possible frontier is found, and then is used as the baseline."
   ]
  },
  {
   "cell_type": "code",
   "execution_count": 2,
   "metadata": {},
   "outputs": [],
   "source": [
    "map_folder = \"maps/\"\n",
    "map_extension = \".tmj\"\n",
    "maps = [(\"large-field-large-explored\", 500, 500), (\"large-field-medium-explored\", 500, 500), (\"medium-field-medium-explored\", 250, 250), (\"medium-field-large-explored\", 250, 250), (\"star\", 500, 500)]"
   ]
  },
  {
   "cell_type": "code",
   "execution_count": 3,
   "metadata": {},
   "outputs": [],
   "source": [
    "ground_truth_detector = SimpleFrontierDetector()\n",
    "convolutional_detectors = [ConvolutionalFrontierDetector(16), ConvolutionalFrontierDetector(32), ConvolutionalFrontierDetector(64), ConvolutionalFrontierDetector(128)]\n",
    "current_map, x, y = maps[0]\n",
    "occupancy_grid = OccupancyGrid(f\"{map_folder}{current_map}{map_extension}\", True)\n",
    "frontiers_ground = ground_truth_detector.identify_frontiers(occupancy_grid.as_flat(), occupancy_grid.width, occupancy_grid.height, np.array([[250, 250]]), False)\n",
    "frontiers_test = convolutional_detectors[1].identify_frontiers(occupancy_grid.as_flat(), occupancy_grid.width, occupancy_grid.height, np.array([[250, 250]]))"
   ]
  },
  {
   "cell_type": "code",
   "execution_count": 4,
   "metadata": {},
   "outputs": [],
   "source": [
    "ch_ground = ConcaveHull()\n",
    "ch_ground.loadpoints(frontiers_ground)\n",
    "ch_ground.calculatehull()\n",
    "boundary_points_ground = np.vstack(ch_ground.boundary.exterior.coords.xy).T.astype(np.int32)"
   ]
  },
  {
   "cell_type": "code",
   "execution_count": 5,
   "metadata": {},
   "outputs": [],
   "source": [
    "ch_test = ConcaveHull()\n",
    "ch_test.loadpoints(frontiers_test)\n",
    "ch_test.calculatehull()\n",
    "boundary_points_test = np.vstack(ch_test.boundary.exterior.coords.xy).T.astype(np.int32)"
   ]
  },
  {
   "attachments": {},
   "cell_type": "markdown",
   "metadata": {},
   "source": [
    "## Similarity"
   ]
  },
  {
   "cell_type": "code",
   "execution_count": 8,
   "metadata": {},
   "outputs": [
    {
     "data": {
      "text/plain": [
       "11134.283733285762"
      ]
     },
     "execution_count": 8,
     "metadata": {},
     "output_type": "execute_result"
    }
   ],
   "source": [
    "distance, path = fastdtw(boundary_points_ground, boundary_points_test, dist=euclidean)\n",
    "distance"
   ]
  }
 ],
 "metadata": {
  "kernelspec": {
   "display_name": "frontiers",
   "language": "python",
   "name": "python3"
  },
  "language_info": {
   "codemirror_mode": {
    "name": "ipython",
    "version": 3
   },
   "file_extension": ".py",
   "mimetype": "text/x-python",
   "name": "python",
   "nbconvert_exporter": "python",
   "pygments_lexer": "ipython3",
   "version": "3.10.8"
  },
  "orig_nbformat": 4,
  "vscode": {
   "interpreter": {
    "hash": "bbdcbba84e10412eb14685663d3f5aedbd595e497d1de9d27b0986bf1aa81481"
   }
  }
 },
 "nbformat": 4,
 "nbformat_minor": 2
}
