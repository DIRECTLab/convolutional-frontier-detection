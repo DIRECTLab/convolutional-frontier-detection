{
 "cells": [
  {
   "cell_type": "code",
   "execution_count": 1,
   "metadata": {},
   "outputs": [],
   "source": [
    "import pandas as pd\n",
    "import matplotlib.pyplot as plt\n",
    "import seaborn as sns"
   ]
  },
  {
   "cell_type": "code",
   "execution_count": 2,
   "metadata": {},
   "outputs": [
    {
     "data": {
      "text/html": [
       "<div>\n",
       "<style scoped>\n",
       "    .dataframe tbody tr th:only-of-type {\n",
       "        vertical-align: middle;\n",
       "    }\n",
       "\n",
       "    .dataframe tbody tr th {\n",
       "        vertical-align: top;\n",
       "    }\n",
       "\n",
       "    .dataframe thead th {\n",
       "        text-align: right;\n",
       "    }\n",
       "</style>\n",
       "<table border=\"1\" class=\"dataframe\">\n",
       "  <thead>\n",
       "    <tr style=\"text-align: right;\">\n",
       "      <th></th>\n",
       "      <th>world file</th>\n",
       "      <th>Algorithm</th>\n",
       "      <th>Dissimilarity</th>\n",
       "    </tr>\n",
       "  </thead>\n",
       "  <tbody>\n",
       "    <tr>\n",
       "      <th>0</th>\n",
       "      <td>star</td>\n",
       "      <td>Convolutional-(8x8)</td>\n",
       "      <td>1.695871</td>\n",
       "    </tr>\n",
       "    <tr>\n",
       "      <th>1</th>\n",
       "      <td>star</td>\n",
       "      <td>Convolutional-(16x16)</td>\n",
       "      <td>2.537196</td>\n",
       "    </tr>\n",
       "    <tr>\n",
       "      <th>2</th>\n",
       "      <td>star</td>\n",
       "      <td>Convolutional-(32x32)</td>\n",
       "      <td>4.692734</td>\n",
       "    </tr>\n",
       "    <tr>\n",
       "      <th>3</th>\n",
       "      <td>star</td>\n",
       "      <td>Convolutional-(64x64)</td>\n",
       "      <td>8.078802</td>\n",
       "    </tr>\n",
       "    <tr>\n",
       "      <th>4</th>\n",
       "      <td>star</td>\n",
       "      <td>Convolutional-(128x128)</td>\n",
       "      <td>13.127660</td>\n",
       "    </tr>\n",
       "  </tbody>\n",
       "</table>\n",
       "</div>"
      ],
      "text/plain": [
       "  world file                Algorithm  Dissimilarity\n",
       "0       star      Convolutional-(8x8)       1.695871\n",
       "1       star    Convolutional-(16x16)       2.537196\n",
       "2       star    Convolutional-(32x32)       4.692734\n",
       "3       star    Convolutional-(64x64)       8.078802\n",
       "4       star  Convolutional-(128x128)      13.127660"
      ]
     },
     "execution_count": 2,
     "metadata": {},
     "output_type": "execute_result"
    }
   ],
   "source": [
    "df = pd.read_csv('results/accuracy.csv', index_col=None)\n",
    "df = df.rename(columns={'detector': 'Algorithm', 'distance': 'Dissimilarity'})\n",
    "df.head()"
   ]
  },
  {
   "cell_type": "code",
   "execution_count": 3,
   "metadata": {},
   "outputs": [],
   "source": [
    "name_lookup = {'star': 'Star', 'large-field-large-explored': 'Large (Majority)', 'large-field-medium-explored': 'Large (Partial)', 'medium-field-large-explored': 'Medium (Majority)', 'medium-field-medium-explored': 'Medium (Partial)'}"
   ]
  },
  {
   "cell_type": "code",
   "execution_count": 12,
   "metadata": {},
   "outputs": [
    {
     "data": {
      "text/html": [
       "<div>\n",
       "<style scoped>\n",
       "    .dataframe tbody tr th:only-of-type {\n",
       "        vertical-align: middle;\n",
       "    }\n",
       "\n",
       "    .dataframe tbody tr th {\n",
       "        vertical-align: top;\n",
       "    }\n",
       "\n",
       "    .dataframe thead th {\n",
       "        text-align: right;\n",
       "    }\n",
       "</style>\n",
       "<table border=\"1\" class=\"dataframe\">\n",
       "  <thead>\n",
       "    <tr style=\"text-align: right;\">\n",
       "      <th></th>\n",
       "      <th>world file</th>\n",
       "      <th>Algorithm</th>\n",
       "      <th>Dissimilarity</th>\n",
       "    </tr>\n",
       "  </thead>\n",
       "  <tbody>\n",
       "    <tr>\n",
       "      <th>4</th>\n",
       "      <td>star</td>\n",
       "      <td>Convolutional-(128x128)</td>\n",
       "      <td>13.127660</td>\n",
       "    </tr>\n",
       "    <tr>\n",
       "      <th>12</th>\n",
       "      <td>large-field-large-explored</td>\n",
       "      <td>Convolutional-(128x128)</td>\n",
       "      <td>13.042045</td>\n",
       "    </tr>\n",
       "    <tr>\n",
       "      <th>20</th>\n",
       "      <td>large-field-medium-explored</td>\n",
       "      <td>Convolutional-(128x128)</td>\n",
       "      <td>7.840464</td>\n",
       "    </tr>\n",
       "    <tr>\n",
       "      <th>28</th>\n",
       "      <td>medium-field-large-explored</td>\n",
       "      <td>Convolutional-(128x128)</td>\n",
       "      <td>16.013165</td>\n",
       "    </tr>\n",
       "    <tr>\n",
       "      <th>36</th>\n",
       "      <td>medium-field-medium-explored</td>\n",
       "      <td>Convolutional-(128x128)</td>\n",
       "      <td>9.010727</td>\n",
       "    </tr>\n",
       "  </tbody>\n",
       "</table>\n",
       "</div>"
      ],
      "text/plain": [
       "                      world file                Algorithm  Dissimilarity\n",
       "4                           star  Convolutional-(128x128)      13.127660\n",
       "12    large-field-large-explored  Convolutional-(128x128)      13.042045\n",
       "20   large-field-medium-explored  Convolutional-(128x128)       7.840464\n",
       "28   medium-field-large-explored  Convolutional-(128x128)      16.013165\n",
       "36  medium-field-medium-explored  Convolutional-(128x128)       9.010727"
      ]
     },
     "execution_count": 12,
     "metadata": {},
     "output_type": "execute_result"
    }
   ],
   "source": [
    "result = df.loc[df['Algorithm'] == 'Convolutional-(128x128)']\n",
    "# result = df.loc[df['Algorithm'] == 'NaiveActiveArea']\n",
    "result"
   ]
  },
  {
   "cell_type": "code",
   "execution_count": null,
   "metadata": {},
   "outputs": [],
   "source": [
    "world_files = df['world file'].unique()\n",
    "\n",
    "for world_file in world_files:\n",
    "    df_subset = df[df['world file'] == world_file]\n",
    "\n",
    "    plt.ylim(0, 55)\n",
    "    sns.set(rc={\"figure.figsize\": (16, 8)})\n",
    "    ax = sns.barplot(x='Algorithm', y='Dissimilarity', data=df_subset)\n",
    "    for j in range(8):\n",
    "        ax.xaxis.get_majorticklabels()[j].set_y(-0.02)\n",
    "    # ax.bar_label(ax.containers[0], label_type='edge')\n",
    "    for index, row in df_subset.iterrows():\n",
    "        plt.text(index % 8, -1.5, round(row['Dissimilarity'], 2), ha='center')\n",
    "    plt.xticks(weight=\"bold\")\n",
    "    ax.set(title=f'Map: {name_lookup[world_file]}')\n",
    "    sns.despine(bottom=True)\n",
    "    plt.show()\n"
   ]
  },
  {
   "cell_type": "markdown",
   "metadata": {},
   "source": []
  }
 ],
 "metadata": {
  "kernelspec": {
   "display_name": "frontiers",
   "language": "python",
   "name": "python3"
  },
  "language_info": {
   "codemirror_mode": {
    "name": "ipython",
    "version": 3
   },
   "file_extension": ".py",
   "mimetype": "text/x-python",
   "name": "python",
   "nbconvert_exporter": "python",
   "pygments_lexer": "ipython3",
   "version": "3.10.8"
  },
  "orig_nbformat": 4,
  "vscode": {
   "interpreter": {
    "hash": "bbdcbba84e10412eb14685663d3f5aedbd595e497d1de9d27b0986bf1aa81481"
   }
  }
 },
 "nbformat": 4,
 "nbformat_minor": 2
}
