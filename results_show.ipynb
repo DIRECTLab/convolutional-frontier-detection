{
 "cells": [
  {
   "cell_type": "code",
   "execution_count": 1,
   "metadata": {},
   "outputs": [],
   "source": [
    "import pandas as pd\n",
    "import seaborn as sns"
   ]
  },
  {
   "cell_type": "code",
   "execution_count": 2,
   "metadata": {},
   "outputs": [
    {
     "data": {
      "text/html": [
       "<div>\n",
       "<style scoped>\n",
       "    .dataframe tbody tr th:only-of-type {\n",
       "        vertical-align: middle;\n",
       "    }\n",
       "\n",
       "    .dataframe tbody tr th {\n",
       "        vertical-align: top;\n",
       "    }\n",
       "\n",
       "    .dataframe thead th {\n",
       "        text-align: right;\n",
       "    }\n",
       "</style>\n",
       "<table border=\"1\" class=\"dataframe\">\n",
       "  <thead>\n",
       "    <tr style=\"text-align: right;\">\n",
       "      <th></th>\n",
       "      <th>algorithm</th>\n",
       "      <th>average time</th>\n",
       "      <th>total time</th>\n",
       "      <th>best time</th>\n",
       "      <th>worst time</th>\n",
       "      <th>number iterations</th>\n",
       "      <th>world file</th>\n",
       "    </tr>\n",
       "  </thead>\n",
       "  <tbody>\n",
       "    <tr>\n",
       "      <th>0</th>\n",
       "      <td>Simple</td>\n",
       "      <td>5.021189</td>\n",
       "      <td>20.084757</td>\n",
       "      <td>5.002242</td>\n",
       "      <td>5.050651</td>\n",
       "      <td>4</td>\n",
       "      <td>star.tmj</td>\n",
       "    </tr>\n",
       "    <tr>\n",
       "      <th>1</th>\n",
       "      <td>Convolutional</td>\n",
       "      <td>0.018345</td>\n",
       "      <td>0.073381</td>\n",
       "      <td>0.017540</td>\n",
       "      <td>0.018785</td>\n",
       "      <td>4</td>\n",
       "      <td>star.tmj</td>\n",
       "    </tr>\n",
       "    <tr>\n",
       "      <th>2</th>\n",
       "      <td>ExpandingWavefront</td>\n",
       "      <td>0.828130</td>\n",
       "      <td>3.312518</td>\n",
       "      <td>0.746635</td>\n",
       "      <td>0.912507</td>\n",
       "      <td>4</td>\n",
       "      <td>star.tmj</td>\n",
       "    </tr>\n",
       "    <tr>\n",
       "      <th>3</th>\n",
       "      <td>Simple</td>\n",
       "      <td>6.760118</td>\n",
       "      <td>27.040474</td>\n",
       "      <td>6.702431</td>\n",
       "      <td>6.814118</td>\n",
       "      <td>4</td>\n",
       "      <td>large-field-large-explored.tmj</td>\n",
       "    </tr>\n",
       "    <tr>\n",
       "      <th>4</th>\n",
       "      <td>Convolutional</td>\n",
       "      <td>0.019758</td>\n",
       "      <td>0.079031</td>\n",
       "      <td>0.018620</td>\n",
       "      <td>0.020847</td>\n",
       "      <td>4</td>\n",
       "      <td>large-field-large-explored.tmj</td>\n",
       "    </tr>\n",
       "  </tbody>\n",
       "</table>\n",
       "</div>"
      ],
      "text/plain": [
       "            algorithm  average time  total time  best time  worst time  \\\n",
       "0              Simple      5.021189   20.084757   5.002242    5.050651   \n",
       "1       Convolutional      0.018345    0.073381   0.017540    0.018785   \n",
       "2  ExpandingWavefront      0.828130    3.312518   0.746635    0.912507   \n",
       "3              Simple      6.760118   27.040474   6.702431    6.814118   \n",
       "4       Convolutional      0.019758    0.079031   0.018620    0.020847   \n",
       "\n",
       "   number iterations                      world file  \n",
       "0                  4                        star.tmj  \n",
       "1                  4                        star.tmj  \n",
       "2                  4                        star.tmj  \n",
       "3                  4  large-field-large-explored.tmj  \n",
       "4                  4  large-field-large-explored.tmj  "
      ]
     },
     "execution_count": 2,
     "metadata": {},
     "output_type": "execute_result"
    }
   ],
   "source": [
    "df = pd.read_csv('results.csv')\n",
    "df.head()"
   ]
  },
  {
   "cell_type": "code",
   "execution_count": 8,
   "metadata": {},
   "outputs": [
    {
     "data": {
      "text/plain": [
       "<AxesSubplot:xlabel='algorithm', ylabel='average time'>"
      ]
     },
     "execution_count": 8,
     "metadata": {},
     "output_type": "execute_result"
    },
    {
     "data": {
      "image/png": "[encoded data removed]",
      "text/plain": [
       "<Figure size 640x480 with 1 Axes>"
      ]
     },
     "metadata": {},
     "output_type": "display_data"
    }
   ],
   "source": [
    "star = df.loc[df['world file'] == 'star.tmj']\n",
    "sns.barplot(data=star, x='algorithm', y=\"average time\")"
   ]
  }
 ],
 "metadata": {
  "kernelspec": {
   "display_name": "frontiers",
   "language": "python",
   "name": "python3"
  },
  "language_info": {
   "codemirror_mode": {
    "name": "ipython",
    "version": 3
   },
   "file_extension": ".py",
   "mimetype": "text/x-python",
   "name": "python",
   "nbconvert_exporter": "python",
   "pygments_lexer": "ipython3",
   "version": "3.10.8"
  },
  "orig_nbformat": 4,
  "vscode": {
   "interpreter": {
    "hash": "bbdcbba84e10412eb14685663d3f5aedbd595e497d1de9d27b0986bf1aa81481"
   }
  }
 },
 "nbformat": 4,
 "nbformat_minor": 2
}
